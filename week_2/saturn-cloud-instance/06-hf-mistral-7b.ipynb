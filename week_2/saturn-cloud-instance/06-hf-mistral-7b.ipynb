{
 "cells": [
  {
   "cell_type": "markdown",
   "id": "d658f909-e679-41e9-9c4e-e0241c719049",
   "metadata": {},
   "source": [
    "If you're not running in Saturn Cloud, you need to install these libraries:\n",
    "\n",
    "Make sure you use the latest versions\n",
    "\n",
    "```\n",
    "pip install -U transformers accelerate bitsandbytes\n",
    "```"
   ]
  },
  {
   "cell_type": "code",
   "execution_count": null,
   "id": "6744a00f",
   "metadata": {
    "execution": {
     "iopub.execute_input": "2024-07-04T13:27:49.530963Z",
     "iopub.status.busy": "2024-07-04T13:27:49.530629Z",
     "iopub.status.idle": "2024-07-04T13:27:49.538033Z",
     "shell.execute_reply": "2024-07-04T13:27:49.537145Z",
     "shell.execute_reply.started": "2024-07-04T13:27:49.530937Z"
    },
    "tags": []
   },
   "outputs": [],
   "source": [
    "import os\n",
    "os.environ['HF_HOME'] = '/run/cache/'"
   ]
  },
  {
   "cell_type": "code",
   "execution_count": null,
   "id": "506fab2a-a50c-42bd-a106-c83a9d2828ea",
   "metadata": {
    "execution": {
     "iopub.execute_input": "2024-07-04T13:27:49.539839Z",
     "iopub.status.busy": "2024-07-04T13:27:49.539565Z",
     "iopub.status.idle": "2024-07-04T13:27:50.872021Z",
     "shell.execute_reply": "2024-07-04T13:27:50.871213Z",
     "shell.execute_reply.started": "2024-07-04T13:27:49.539816Z"
    },
    "tags": []
   },
   "outputs": [],
   "source": [
    "!rm -f minsearch.py\n",
    "!wget https://raw.githubusercontent.com/alexeygrigorev/minsearch/main/minsearch.py"
   ]
  },
  {
   "cell_type": "code",
   "execution_count": null,
   "id": "3ac947de-effd-4b61-8792-a6d7a133f347",
   "metadata": {
    "execution": {
     "iopub.execute_input": "2024-07-04T13:27:50.873856Z",
     "iopub.status.busy": "2024-07-04T13:27:50.873147Z",
     "iopub.status.idle": "2024-07-04T13:27:52.110659Z",
     "shell.execute_reply": "2024-07-04T13:27:52.109795Z",
     "shell.execute_reply.started": "2024-07-04T13:27:50.873825Z"
    },
    "tags": []
   },
   "outputs": [],
   "source": [
    "import requests \n",
    "import minsearch\n",
    "\n",
    "docs_url = 'https://github.com/DataTalksClub/llm-zoomcamp/blob/main/01-intro/documents.json?raw=1'\n",
    "docs_response = requests.get(docs_url)\n",
    "documents_raw = docs_response.json()\n",
    "\n",
    "documents = []\n",
    "\n",
    "for course in documents_raw:\n",
    "    course_name = course['course']\n",
    "\n",
    "    for doc in course['documents']:\n",
    "        doc['course'] = course_name\n",
    "        documents.append(doc)\n",
    "\n",
    "index = minsearch.Index(\n",
    "    text_fields=[\"question\", \"text\", \"section\"],\n",
    "    keyword_fields=[\"course\"]\n",
    ")\n",
    "\n",
    "index.fit(documents)"
   ]
  },
  {
   "cell_type": "code",
   "execution_count": null,
   "id": "8f087272-b44d-4738-9ea2-175ec63a058b",
   "metadata": {
    "execution": {
     "iopub.execute_input": "2024-07-04T13:27:52.112953Z",
     "iopub.status.busy": "2024-07-04T13:27:52.112235Z",
     "iopub.status.idle": "2024-07-04T13:27:52.117451Z",
     "shell.execute_reply": "2024-07-04T13:27:52.116615Z",
     "shell.execute_reply.started": "2024-07-04T13:27:52.112913Z"
    },
    "tags": []
   },
   "outputs": [],
   "source": [
    "def search(query):\n",
    "    boost = {'question': 3.0, 'section': 0.5}\n",
    "\n",
    "    results = index.search(\n",
    "        query=query,\n",
    "        filter_dict={'course': 'data-engineering-zoomcamp'},\n",
    "        boost_dict=boost,\n",
    "        num_results=3\n",
    "    )\n",
    "\n",
    "    return results"
   ]
  },
  {
   "cell_type": "code",
   "execution_count": null,
   "id": "fe8bff3e-b672-42be-866b-f2d9bb217106",
   "metadata": {
    "execution": {
     "iopub.execute_input": "2024-07-04T13:27:52.118820Z",
     "iopub.status.busy": "2024-07-04T13:27:52.118509Z",
     "iopub.status.idle": "2024-07-04T13:27:52.122753Z",
     "shell.execute_reply": "2024-07-04T13:27:52.121965Z",
     "shell.execute_reply.started": "2024-07-04T13:27:52.118798Z"
    },
    "tags": []
   },
   "outputs": [],
   "source": [
    "def rag(query):\n",
    "    search_results = search(query)\n",
    "    prompt = build_prompt(query, search_results)\n",
    "    answer = llm(prompt)\n",
    "    return answer"
   ]
  },
  {
   "cell_type": "code",
   "execution_count": null,
   "id": "2b69a481",
   "metadata": {
    "execution": {
     "iopub.execute_input": "2024-07-04T13:27:52.127137Z",
     "iopub.status.busy": "2024-07-04T13:27:52.126862Z",
     "iopub.status.idle": "2024-07-04T13:27:52.234601Z",
     "shell.execute_reply": "2024-07-04T13:27:52.233935Z",
     "shell.execute_reply.started": "2024-07-04T13:27:52.127113Z"
    },
    "tags": []
   },
   "outputs": [],
   "source": [
    "from huggingface_hub import login"
   ]
  },
  {
   "cell_type": "code",
   "execution_count": null,
   "id": "6650945d",
   "metadata": {
    "execution": {
     "iopub.execute_input": "2024-07-04T13:27:53.082350Z",
     "iopub.status.busy": "2024-07-04T13:27:53.081955Z",
     "iopub.status.idle": "2024-07-04T13:27:53.227364Z",
     "shell.execute_reply": "2024-07-04T13:27:53.226591Z",
     "shell.execute_reply.started": "2024-07-04T13:27:53.082324Z"
    },
    "tags": []
   },
   "outputs": [],
   "source": [
    "login(token=os.environ['HF_TOKEN'])"
   ]
  },
  {
   "cell_type": "code",
   "execution_count": null,
   "id": "cfe5b58d",
   "metadata": {
    "execution": {
     "iopub.execute_input": "2024-07-04T13:27:55.116223Z",
     "iopub.status.busy": "2024-07-04T13:27:55.115797Z",
     "iopub.status.idle": "2024-07-04T13:27:56.833292Z",
     "shell.execute_reply": "2024-07-04T13:27:56.832572Z",
     "shell.execute_reply.started": "2024-07-04T13:27:55.116194Z"
    },
    "tags": []
   },
   "outputs": [],
   "source": [
    "from transformers import AutoModelForCausalLM\n",
    "from transformers import AutoTokenizer"
   ]
  },
  {
   "cell_type": "code",
   "execution_count": null,
   "id": "311fd41d",
   "metadata": {
    "execution": {
     "iopub.execute_input": "2024-07-04T13:27:56.834968Z",
     "iopub.status.busy": "2024-07-04T13:27:56.834526Z",
     "iopub.status.idle": "2024-07-04T13:27:57.918579Z",
     "shell.execute_reply": "2024-07-04T13:27:57.916628Z",
     "shell.execute_reply.started": "2024-07-04T13:27:56.834940Z"
    },
    "tags": []
   },
   "outputs": [],
   "source": [
    "model = AutoModelForCausalLM.from_pretrained(\n",
    "    \"mistralai/Mistral-7B-v0.1\", device_map=\"auto\", load_in_4bit=True\n",
    ")\n",
    "\n",
    "tokenizer = AutoTokenizer.from_pretrained(\"mistralai/Mistral-7B-v0.1\", padding_side=\"left\")"
   ]
  },
  {
   "cell_type": "code",
   "execution_count": null,
   "id": "4b7f6fd7",
   "metadata": {},
   "outputs": [],
   "source": [
    "from transformers import pipeline\n",
    "generator = pipeline(\"text-generation\", model=model, tokenizer=tokenizer)"
   ]
  },
  {
   "cell_type": "code",
   "execution_count": null,
   "id": "da66a082",
   "metadata": {},
   "outputs": [],
   "source": [
    "def build_prompt(query, search_results):\n",
    "    prompt_template = \"\"\"\n",
    "QUESTION: {question}\n",
    "\n",
    "CONTEXT:\n",
    "{context}\n",
    "\n",
    "ANSWER:\n",
    "\"\"\".strip()\n",
    "\n",
    "    context = \"\"\n",
    "    \n",
    "    for doc in search_results:\n",
    "        context = context + f\"{doc['question']}\\n{doc['text']}\\n\\n\"\n",
    "    \n",
    "    prompt = prompt_template.format(question=query, context=context).strip()\n",
    "    return prompt\n",
    "\n",
    "def llm(prompt):\n",
    "    response = generator(prompt, max_length=500, temperature=0.7, top_p=0.95, num_return_sequences=1)\n",
    "    response_final = response[0]['generated_text']\n",
    "    return response_final[len(prompt):].strip()"
   ]
  },
  {
   "cell_type": "code",
   "execution_count": null,
   "id": "41b774d3",
   "metadata": {},
   "outputs": [],
   "source": [
    "rag(\"I just discovered the course. Can I still join it?\")"
   ]
  }
 ],
 "metadata": {
  "kernelspec": {
   "display_name": "saturn (Python 3)",
   "language": "python",
   "name": "python3"
  },
  "language_info": {
   "codemirror_mode": {
    "name": "ipython",
    "version": 3
   },
   "file_extension": ".py",
   "mimetype": "text/x-python",
   "name": "python",
   "nbconvert_exporter": "python",
   "pygments_lexer": "ipython3",
   "version": "3.10.13"
  }
 },
 "nbformat": 4,
 "nbformat_minor": 5
}
